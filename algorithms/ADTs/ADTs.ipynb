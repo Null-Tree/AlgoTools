{
 "cells": [
  {
   "cell_type": "code",
   "execution_count": null,
   "metadata": {},
   "outputs": [],
   "source": [
    "\n",
    "class Queue:\n",
    "    def __init__(self,maxsize:int):\n",
    "        self.queue=[]\n",
    "        self.maxsize=maxsize\n",
    "\n",
    "    def qsize(self):\n",
    "        return len(self.queue)\n",
    "    \n",
    "    def full(self):\n",
    "        return (len(self.queue) == self.maxsize)\n",
    "        \n",
    "    def empty(self):\n",
    "        return (len(self.queue)==0)\n",
    "        \n",
    "    def put(self,val):\n",
    "        if len(self.queue)<self.maxsize:\n",
    "            self.queue.append(val)\n",
    "            return True\n",
    "        else:\n",
    "            return False\n",
    "        \n",
    "    def get(self):\n",
    "        if not self.empty():\n",
    "            return self.queue.pop(0)\n",
    "        else:\n",
    "            return None\n",
    "    def print(self):\n",
    "            print(self.queue)\n"
   ]
  },
  {
   "cell_type": "code",
   "execution_count": null,
   "metadata": {},
   "outputs": [],
   "source": [
    "class Stack:\n",
    "    def __init__(self):\n",
    "        self.Stack=[]\n",
    "\n",
    "    def push(self,val):\n",
    "        self.Stack.append(val)\n",
    "        \n",
    "    def pop(self):\n",
    "        lengh=len(self.Stack)\n",
    "        if lengh==0:\n",
    "            return None\n",
    "        else:\n",
    "            return self.Stack.pop(lengh-1)\n",
    "        \n",
    "    def top(self):\n",
    "        lengh=len(self.Stack)\n",
    "        if lengh==0:\n",
    "            return None\n",
    "        else:\n",
    "            return self.Stack[lengh-1] \n",
    "        \n",
    "    def isEmpty(self):\n",
    "        return (True if len(self.Stack) == 0 else False)\n",
    "    def print(self):\n",
    "        print(self.Stack)\n",
    "    \n",
    "\n",
    "        "
   ]
  }
 ],
 "metadata": {
  "language_info": {
   "name": "python"
  }
 },
 "nbformat": 4,
 "nbformat_minor": 2
}
