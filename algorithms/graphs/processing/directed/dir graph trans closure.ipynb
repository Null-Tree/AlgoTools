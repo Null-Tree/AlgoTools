{
 "cells": [
  {
   "cell_type": "markdown",
   "metadata": {},
   "source": [
    "shortest path respects direction"
   ]
  },
  {
   "cell_type": "code",
   "execution_count": 4,
   "metadata": {},
   "outputs": [],
   "source": [
    "\n",
    "import networkx as nx\n"
   ]
  },
  {
   "cell_type": "code",
   "execution_count": 5,
   "metadata": {},
   "outputs": [],
   "source": [
    "# gives shortest dist for all nodes to all other nodes\n",
    "def floyd_warshall(graph:nx.DiGraph):\n",
    "    reachable = {}\n",
    "    nodes = list(graph.nodes)\n",
    "\n",
    "    # initalise 2 key dict with unreachable 0\n",
    "    for node1 in nodes:\n",
    "        reachable[node1]={}\n",
    "        for node2 in nodes:\n",
    "            reachable[node1][node2] = 0\n",
    "\n",
    "    # set nodes to them selves as reachable\n",
    "    for node in nodes:\n",
    "        reachable[node][node]=1\n",
    "\n",
    "    # set reachable for every given edge\n",
    "    # diffrence is for digraph it only populates in direction of one\n",
    "    for edge in graph.edges.data():\n",
    "            node1, node2, pdict = edge\n",
    "            reachable[node1][node2]=1\n",
    "    \n",
    "    # up to here reachable is an adjacency matric as a dualkey dictionary\n",
    "    # print(reachable)\n",
    "\n",
    "\n",
    "    # important for intermedate node loop to be on outside (?) might be absolutely nessicary for relaxation\n",
    "    for intermediaryNode in nodes:\n",
    "        for nodeI in nodes:\n",
    "            for nodeJ in nodes:\n",
    "                # if unreachable\n",
    "                if reachable[nodeI][nodeJ] != 1:\n",
    "                    if reachable[nodeI][intermediaryNode] and reachable[intermediaryNode][nodeJ]:\n",
    "                        # sees if using intermediaryNode between nodeI to nodeJ is reachable \n",
    "                        reachable[nodeI][nodeJ] = 1\n",
    "\n",
    "\n",
    "    return reachable\n"
   ]
  },
  {
   "cell_type": "code",
   "execution_count": 6,
   "metadata": {},
   "outputs": [
    {
     "name": "stdout",
     "output_type": "stream",
     "text": [
      "{'a': 1, 'b': 1, 'c': 1, 'd': 1}\n",
      "{'a': 1, 'b': 1, 'c': 1, 'd': 1}\n",
      "{'a': 1, 'b': 1, 'c': 1, 'd': 1}\n",
      "{'a': 1, 'b': 1, 'c': 1, 'd': 1}\n"
     ]
    }
   ],
   "source": [
    "# testing\n",
    "\n",
    "\n",
    "nodes=['a', 'b', 'c', 'd']\n",
    "edges=[('b', 'a', {'weight': 2}), ('d', 'a', {'weight': 6}), ('c', 'b', {'weight': 7}), ('a', 'c', {'weight': 3}), ('c', 'd', {'weight': 1})]\n",
    "\n",
    "\n",
    "\n",
    "ingraph=nx.DiGraph()\n",
    "\n",
    "\n",
    "ingraph.add_nodes_from(nodes)\n",
    "\n",
    "ingraph.add_edges_from(edges)\n",
    "\n",
    "tests=nodes\n",
    "floydresult=floyd_warshall(ingraph)\n",
    "for testvar in tests:\n",
    "    if type(floydresult) == dict:\n",
    "        print(floydresult[testvar])\n",
    "    else:\n",
    "        print(floydresult)\n"
   ]
  }
 ],
 "metadata": {
  "kernelspec": {
   "display_name": "base",
   "language": "python",
   "name": "python3"
  },
  "language_info": {
   "codemirror_mode": {
    "name": "ipython",
    "version": 3
   },
   "file_extension": ".py",
   "mimetype": "text/x-python",
   "name": "python",
   "nbconvert_exporter": "python",
   "pygments_lexer": "ipython3",
   "version": "3.12.3"
  }
 },
 "nbformat": 4,
 "nbformat_minor": 2
}
