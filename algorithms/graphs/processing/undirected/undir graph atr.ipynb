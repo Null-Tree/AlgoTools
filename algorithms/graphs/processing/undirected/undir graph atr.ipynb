{
 "cells": [
  {
   "cell_type": "markdown",
   "metadata": {},
   "source": [
    "undir?"
   ]
  },
  {
   "cell_type": "code",
   "execution_count": 177,
   "metadata": {},
   "outputs": [],
   "source": [
    "import networkx as nx"
   ]
  },
  {
   "cell_type": "code",
   "execution_count": 178,
   "metadata": {},
   "outputs": [],
   "source": [
    "def dfs(graph, start):\n",
    "    visited=[]\n",
    "    \n",
    "    backlog = []\n",
    "    backlog.insert(0,start)\n",
    "    current=start\n",
    "    while (len(backlog)!=0):\n",
    "\n",
    "\n",
    "        current=backlog.pop()\n",
    "        visited.append(current)\n",
    "        \n",
    "        \n",
    "        if type(graph) == nx.Graph:\n",
    "            neighbours = list(graph.neighbors(current))\n",
    "        elif type(graph) == nx.DiGraph:\n",
    "            neighbours = list(graph.successors(current))\n",
    "\n",
    "        for neighbour in neighbours:\n",
    "            if neighbour not in (visited+backlog):\n",
    "                backlog.insert(0,neighbour)\n",
    "    \n",
    "    return visited"
   ]
  },
  {
   "cell_type": "code",
   "execution_count": 179,
   "metadata": {},
   "outputs": [],
   "source": [
    "def isconnected(graph:nx.Graph):\n",
    "    nodes=list(graph.nodes)\n",
    "    \n",
    "    startnode=nodes[0]\n",
    "    if len(graph.nodes) == len(dfs(graph,startnode)):\n",
    "        return True\n",
    "    else:\n",
    "        return False"
   ]
  },
  {
   "cell_type": "code",
   "execution_count": 180,
   "metadata": {},
   "outputs": [],
   "source": [
    "\n",
    "def cyclic_nav(graph:nx.Graph,current,previous,branch):\n",
    "\n",
    "    if type(graph) == nx.Graph:\n",
    "        neighbours = list(graph.neighbors(current))\n",
    "    elif type(graph) == nx.DiGraph:\n",
    "        neighbours = list(graph.successors(current))\n",
    "    print(branch)\n",
    "    neighbours.remove(previous)\n",
    "    for neighbour in neighbours:\n",
    "\n",
    "        if neighbour in branch:\n",
    "            return True\n",
    "        else:\n",
    "            if cyclic_nav(graph,neighbour,current,branch+[neighbour]):\n",
    "                return True\n",
    "\n",
    "    return False\n",
    "\n",
    "\n",
    "\n",
    "def iscyclic(graph:nx.Graph):\n",
    "    # uses cyclic dfs, FOR both dir and undir\n",
    "\n",
    "    # if isconnected(graph) == False:\n",
    "    #     return False\n",
    "\n",
    "    start=list(graph.nodes)[0]\n",
    "    \n",
    "    if type(graph) == nx.Graph:\n",
    "        neighbours = list(graph.neighbors(start))\n",
    "    elif type(graph) == nx.DiGraph:\n",
    "        neighbours = list(graph.successors(start))\n",
    "\n",
    "    for neighbour in neighbours:\n",
    "        if cyclic_nav(graph,neighbour,start,[start,neighbour]):\n",
    "            return True\n",
    "    \n",
    "    \n",
    "\n",
    "        \n",
    "    \n",
    "    return False\n",
    "\n",
    "\n"
   ]
  },
  {
   "cell_type": "code",
   "execution_count": 181,
   "metadata": {},
   "outputs": [
    {
     "name": "stdout",
     "output_type": "stream",
     "text": [
      "['a', 'b']\n",
      "['a', 'b', 'c']\n",
      "False\n"
     ]
    }
   ],
   "source": [
    "# testing\n",
    "\n",
    "nodes=['a', 'b', 'c', 'd', 'e', 'f']\n",
    "# edges=[('a', 'b', {'weight': 6}), ('a', 'd', {'weight': 5}), ('a', 'c', {'weight': 1}), ('b', 'c', {'weight': 5}), ('d', 'c', {'weight': 5}), ('b', 'e', {'weight': 3}), ('e', 'f', {'weight': 6}), ('e', 'c', {'weight': 6}), ('c', 'f', {'weight': 4}), ('d', 'f', {'weight': 2})]\n",
    "\n",
    "edges=[ ('a', 'b', {'weight': 5}), ('a', 'b', {'weight': 1}), ('b', 'c', {'weight': 5})]\n",
    "\n",
    "\n",
    "ingraph=nx.Graph()\n",
    "\n",
    "\n",
    "ingraph.add_nodes_from(nodes)\n",
    "\n",
    "ingraph.add_edges_from(edges)\n",
    "\n",
    "\n",
    "print(iscyclic(ingraph))\n"
   ]
  }
 ],
 "metadata": {
  "kernelspec": {
   "display_name": "base",
   "language": "python",
   "name": "python3"
  },
  "language_info": {
   "codemirror_mode": {
    "name": "ipython",
    "version": 3
   },
   "file_extension": ".py",
   "mimetype": "text/x-python",
   "name": "python",
   "nbconvert_exporter": "python",
   "pygments_lexer": "ipython3",
   "version": "3.12.3"
  }
 },
 "nbformat": 4,
 "nbformat_minor": 2
}
