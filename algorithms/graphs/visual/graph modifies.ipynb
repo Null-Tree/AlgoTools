{
 "cells": [
  {
   "cell_type": "code",
   "execution_count": null,
   "metadata": {},
   "outputs": [],
   "source": [
    "import matplotlib.pyplot as plt\n",
    "import networkx as nx\n",
    "\n",
    "\n",
    "nodes=['tiger', 'human', 'fish', 'sheep', 'shrimp', 'plankton', 'wheat']\n",
    "edges=[('wheat', 'human', {'weight': 1}), ('wheat', 'sheep', {'weight': 1}), ('plankton', 'shrimp', {'weight': 1}), ('plankton', 'shrimp', {'weight': 1}), ('shrimp', 'fish', {'weight': 1}), ('shrimp', 'human', {'weight': 1}), ('fish', 'human', {'weight': 1}), ('fish', 'tiger', {'weight': 1}), ('human', 'tiger', {'weight': 1}), ('sheep', 'human', {'weight': 1}), ('sheep', 'tiger', {'weight': 1})]    \n",
    "\n",
    "\n",
    "\n",
    "\n",
    "fig,ax=plt.subplots()\n",
    "\n",
    "graph=nx.DiGraph()\n",
    "graph.add_nodes_from(nodes)\n",
    "graph.add_edges_from(edges)\n",
    "pos=nx.shell_layout(graph)\n",
    "\n",
    "\n"
   ]
  },
  {
   "cell_type": "code",
   "execution_count": null,
   "metadata": {},
   "outputs": [],
   "source": [
    "\n",
    "\n",
    "# nodes\n",
    "nx.draw_networkx_nodes(graph,pos,\n",
    "                       node_size=4100,\n",
    "                       node_color=\"#1f2120\", \n",
    "                       node_shape=\"o\" ) #  \n",
    "\n",
    "nx.draw_networkx_labels(graph,pos,font_color=\"#cdcecf\")  #,font_size=14\n",
    "\n"
   ]
  },
  {
   "cell_type": "code",
   "execution_count": null,
   "metadata": {},
   "outputs": [],
   "source": [
    "\n",
    "#edges\n",
    "\n",
    "nx.draw_networkx_edges(graph,pos,\n",
    "                       width=2,\n",
    "                       edge_color=\"#cdcecf\",\n",
    "                       arrowsize=15,\n",
    "                       arrows=True,\n",
    "                       node_size=4100)\n",
    "\n",
    "\n",
    "\n",
    "edge_labels=dict([((u,v),d[\"weight\"]) for u,v,d in graph.edges(data=True)])\n",
    "\n",
    "nx.draw_networkx_edge_labels(graph,pos,edge_labels=edge_labels,font_color=\"#1f2120\")\n"
   ]
  },
  {
   "cell_type": "markdown",
   "metadata": {},
   "source": [
    "https://networkx.org/documentation/stable/reference/generated/networkx.drawing.nx_pylab.draw_networkx_edges.html"
   ]
  },
  {
   "cell_type": "code",
   "execution_count": null,
   "metadata": {},
   "outputs": [],
   "source": [
    "#other\n",
    "\n",
    "ax.set_facecolor(\"#2a303c\")\n",
    "\n",
    "\n",
    "\n",
    "plt.show()"
   ]
  }
 ],
 "metadata": {
  "kernelspec": {
   "display_name": "base",
   "language": "python",
   "name": "python3"
  },
  "language_info": {
   "name": "python",
   "version": "3.12.3"
  }
 },
 "nbformat": 4,
 "nbformat_minor": 2
}
