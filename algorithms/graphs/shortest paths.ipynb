{
 "cells": [
  {
   "cell_type": "code",
   "execution_count": null,
   "metadata": {},
   "outputs": [],
   "source": [
    "\n",
    "import networkx as nx\n"
   ]
  },
  {
   "cell_type": "code",
   "execution_count": null,
   "metadata": {},
   "outputs": [],
   "source": [
    "  \n",
    "def dijkstra(graph: nx.Graph, start) -> dict:\n",
    "\n",
    "    unvisited = list(graph.nodes)\n",
    "    # gets list\n",
    "\n",
    "    node_distances = {node: float('inf') for node in graph.nodes}\n",
    "    # creates set of distances, default initiate to inf\n",
    "    \n",
    "    node_distances[start] = 0\n",
    "\n",
    "    \n",
    "    while len(unvisited) > 0:\n",
    "    \n",
    "        node = min(unvisited, key=lambda x: node_distances[x])\n",
    "    \n",
    "        for i in graph.neighbors(node):\n",
    "    \n",
    "            if i in unvisited:\n",
    "    \n",
    "                node_distances[i] = min(node_distances[i], node_distances[node] + graph[node][i]['weight'])\n",
    "    \n",
    "        unvisited.remove(node)\n",
    "    \n",
    "    return node_distances\n",
    "\n",
    "def dijkstra_initialise(graph: nx.Graph, start, end) -> list:\n",
    "\n",
    "    node_distances = dijkstra(graph, start)\n",
    "\n",
    "    path = [end]\n",
    "\n",
    "    while path[0] != start:\n",
    "\n",
    "        for i in graph.neighbors(path[0]):\n",
    "\n",
    "            if node_distances[i] == node_distances[path[0]] - graph[path[0]][i]['weight']:\n",
    "\n",
    "                path.insert(0, i)\n",
    "\n",
    "                break\n",
    "\n",
    "    return path"
   ]
  },
  {
   "cell_type": "code",
   "execution_count": null,
   "metadata": {},
   "outputs": [],
   "source": [
    "\n",
    "def floyd_warshall(graph: nx.DiGraph) -> list:\n",
    "    nodes_to_index = {node: i for i, node in enumerate(graph.nodes)}\n",
    "    distances = [[float('inf') for _ in range(len(graph.nodes))] for _ in range(len(graph.nodes))]\n",
    "    #set distance for directly connected nodes\n",
    "    for edge in graph.edges:\n",
    "        distances[nodes_to_index[edge[0]]][nodes_to_index[edge[1]]] = graph.edges[edge]['weight']\n",
    "    #vertices are distance zero to themselves\n",
    "    for vertex in graph.nodes:\n",
    "        distances[nodes_to_index[vertex]][nodes_to_index[vertex]] = 0\n",
    "    for k in range(len(graph.nodes)):\n",
    "        for i in range(len(graph.nodes)):\n",
    "            for j in range(len(graph.nodes)):\n",
    "\t            #repeatedly lower distance if shorter path exists\n",
    "                distances[i][j] = min(distances[i][j], distances[i][k] + distances[k][j])\n",
    "    return distances"
   ]
  }
 ],
 "metadata": {
  "kernelspec": {
   "display_name": "base",
   "language": "python",
   "name": "python3"
  },
  "language_info": {
   "name": "python",
   "version": "3.12.3"
  }
 },
 "nbformat": 4,
 "nbformat_minor": 2
}
