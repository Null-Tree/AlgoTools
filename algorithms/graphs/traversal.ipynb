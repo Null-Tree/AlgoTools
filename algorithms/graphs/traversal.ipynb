{
 "cells": [
  {
   "cell_type": "code",
   "execution_count": null,
   "metadata": {},
   "outputs": [],
   "source": [
    "import networkx as nx\n"
   ]
  },
  {
   "cell_type": "code",
   "execution_count": null,
   "metadata": {},
   "outputs": [],
   "source": [
    "\n",
    "def bfs(graph, start, target):\n",
    "    visited=[]\n",
    "    \n",
    "    backlog = []\n",
    "\n",
    "    backlog.append(start)\n",
    "    current=start\n",
    "    while (current!=target and len(backlog)!=0):\n",
    "        current=backlog.pop()\n",
    "        visited.append(current)\n",
    "        \n",
    "        if type(graph) == nx.Graph:\n",
    "            neighbours = list(graph.neighbors(current))\n",
    "        elif type(graph) == nx.DiGraph:\n",
    "            neighbours = list(graph.successors(current))\n",
    "\n",
    "        for neighbour in neighbours:\n",
    "            if neighbour not in (visited + backlog):\n",
    "                backlog.append(neighbour)\n",
    "    \n",
    "    return visited\n",
    "\n"
   ]
  },
  {
   "cell_type": "code",
   "execution_count": null,
   "metadata": {},
   "outputs": [],
   "source": [
    "\n",
    "def dfs(graph, start, target):\n",
    "    visited=[]\n",
    "    \n",
    "    backlog = []\n",
    "    backlog.insert(0,start)\n",
    "    current=start\n",
    "    while (current!=target and len(backlog)!=0):\n",
    "\n",
    "\n",
    "        current=backlog.pop()\n",
    "        visited.append(current)\n",
    "        \n",
    "        \n",
    "        if type(graph) == nx.Graph:\n",
    "            neighbours = list(graph.neighbors(current))\n",
    "        elif type(graph) == nx.DiGraph:\n",
    "            neighbours = list(graph.successors(current))\n",
    "\n",
    "        for neighbour in neighbours:\n",
    "            if neighbour not in (visited+backlog):\n",
    "                backlog.insert(0,neighbour)\n",
    "    \n",
    "    return visited\n"
   ]
  }
 ],
 "metadata": {
  "kernelspec": {
   "display_name": "base",
   "language": "python",
   "name": "python3"
  },
  "language_info": {
   "name": "python",
   "version": "3.12.3"
  }
 },
 "nbformat": 4,
 "nbformat_minor": 2
}
