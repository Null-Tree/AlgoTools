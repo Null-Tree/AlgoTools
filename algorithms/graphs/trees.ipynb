{
 "cells": [
  {
   "cell_type": "code",
   "execution_count": null,
   "metadata": {},
   "outputs": [],
   "source": [
    "\n",
    "import networkx as nx\n",
    "\n",
    "def prim(graph:nx.Graph):\n",
    "\n",
    "    \n",
    "    # initialise tree by providing first node\n",
    "    minTree=nx.Graph()\n",
    "    minTree.add_node(list(graph.nodes)[0])\n",
    "\n",
    "    # while we have not connected all original input nodes, keep looking\n",
    "    while len(minTree.nodes) < len(graph.nodes):\n",
    "        edges=[]\n",
    "        for edge in graph.edges.data():\n",
    "            if edge[0] in minTree.nodes and edge[1] in minTree.nodes:\n",
    "                # if the end nodes of the points are already in min span tree, ignore\n",
    "                continue\n",
    "            if edge[0] in minTree.nodes or edge[1] in minTree.nodes:\n",
    "                edges.append(edge)\n",
    "\n",
    "            # sort, for key is the third item, with value of key weight\n",
    "            edges.sort(key=lambda x:x[2]['weight']) \n",
    "\n",
    "            # add edge with least weight\n",
    "            minTree.add_edges_from([edges[0]])\n",
    "\n",
    "    return minTree\n"
   ]
  }
 ],
 "metadata": {
  "kernelspec": {
   "display_name": "base",
   "language": "python",
   "name": "python3"
  },
  "language_info": {
   "name": "python",
   "version": "3.12.3"
  }
 },
 "nbformat": 4,
 "nbformat_minor": 2
}
